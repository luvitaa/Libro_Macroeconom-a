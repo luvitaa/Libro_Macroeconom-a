{
 "cells": [
  {
   "cell_type": "markdown",
   "id": "11cd7e67",
   "metadata": {},
   "source": [
    "# Modelo Ingreso-Gasto Keynesiano"
   ]
  },
  {
   "cell_type": "markdown",
   "id": "5f0c5328",
   "metadata": {},
   "source": [
    "Nombre: Sarmiento Sulca, Luciana Gimena\n",
    "Correo: a20202422@pucp.edu.pe\n",
    "Código: 20202422"
   ]
  },
  {
   "cell_type": "markdown",
   "id": "705839cd",
   "metadata": {},
   "source": [
    "PARTE PRÁCTICA"
   ]
  },
  {
   "cell_type": "code",
   "execution_count": 1,
   "id": "0df06b95",
   "metadata": {},
   "outputs": [],
   "source": [
    "#Códigos necesarios:\n",
    "import ipywidgets as widgets\n",
    "import matplotlib.pyplot as plt\n",
    "import numpy as np\n",
    "import sympy as sy\n",
    "from sympy import *\n",
    "import pandas as pd"
   ]
  },
  {
   "cell_type": "markdown",
   "id": "064dbdcf",
   "metadata": {},
   "source": [
    "### Primera pregunta"
   ]
  },
  {
   "cell_type": "markdown",
   "id": "c59b155b",
   "metadata": {},
   "source": [
    "Primera pregunta: derivar\n",
    "1. El primer paso para hallar la función de la demanda de consumo es la tribuación, cuya fórmula es la siguiente:\n",
    "𝑇 = 𝑡𝑌; donde t: tasa de impuestos \n",
    "2. Luego se analiza el ingreso disponible con la resta del ingreso con la tributación:\n",
    "𝑌𝑑 =𝑌−𝑇 \n",
    "3. Se reemplaza:\n",
    "𝑌𝑑 =(1−𝑡)𝑌\n",
    "4. Finalmente, se multiplicó el ingreso disponible con la propensión marginal a consumir y a esto se le sumó el consumo fijo. \n",
    "𝐶 = 𝐶0 + 𝑏𝑌𝑑"
   ]
  },
  {
   "cell_type": "code",
   "execution_count": 2,
   "id": "2ca70e3b",
   "metadata": {},
   "outputs": [
    {
     "data": {
      "text/plain": [
       "array([ 0,  1,  2,  3,  4,  5,  6,  7,  8,  9, 10, 11, 12, 13, 14, 15, 16,\n",
       "       17, 18, 19, 20, 21, 22, 23, 24, 25, 26, 27, 28, 29, 30, 31, 32, 33,\n",
       "       34, 35, 36, 37, 38, 39, 40, 41, 42, 43, 44, 45, 46, 47, 48, 49, 50,\n",
       "       51, 52, 53, 54, 55, 56, 57, 58, 59, 60, 61, 62, 63, 64, 65, 66, 67,\n",
       "       68, 69, 70, 71, 72, 73, 74, 75, 76, 77, 78, 79, 80, 81, 82, 83, 84,\n",
       "       85, 86, 87, 88, 89, 90, 91, 92, 93, 94, 95, 96, 97, 98, 99])"
      ]
     },
     "execution_count": 2,
     "metadata": {},
     "output_type": "execute_result"
    }
   ],
   "source": [
    "#Primera pregunta:replicar\n",
    "Y_size=100\n",
    "b=0.5\n",
    "Co=10\n",
    "Yd=np.arange(Y_size)\n",
    "Yd"
   ]
  },
  {
   "cell_type": "code",
   "execution_count": 3,
   "id": "980d7ada",
   "metadata": {},
   "outputs": [
    {
     "data": {
      "text/plain": [
       "array([10. , 10.5, 11. , 11.5, 12. , 12.5, 13. , 13.5, 14. , 14.5, 15. ,\n",
       "       15.5, 16. , 16.5, 17. , 17.5, 18. , 18.5, 19. , 19.5, 20. , 20.5,\n",
       "       21. , 21.5, 22. , 22.5, 23. , 23.5, 24. , 24.5, 25. , 25.5, 26. ,\n",
       "       26.5, 27. , 27.5, 28. , 28.5, 29. , 29.5, 30. , 30.5, 31. , 31.5,\n",
       "       32. , 32.5, 33. , 33.5, 34. , 34.5, 35. , 35.5, 36. , 36.5, 37. ,\n",
       "       37.5, 38. , 38.5, 39. , 39.5, 40. , 40.5, 41. , 41.5, 42. , 42.5,\n",
       "       43. , 43.5, 44. , 44.5, 45. , 45.5, 46. , 46.5, 47. , 47.5, 48. ,\n",
       "       48.5, 49. , 49.5, 50. , 50.5, 51. , 51.5, 52. , 52.5, 53. , 53.5,\n",
       "       54. , 54.5, 55. , 55.5, 56. , 56.5, 57. , 57.5, 58. , 58.5, 59. ,\n",
       "       59.5])"
      ]
     },
     "execution_count": 3,
     "metadata": {},
     "output_type": "execute_result"
    }
   ],
   "source": [
    "def C (Co, b, Yd):\n",
    "    C = Co + b*Yd\n",
    "    return C\n",
    "C = C(Co, b, Yd)\n",
    "C"
   ]
  },
  {
   "cell_type": "code",
   "execution_count": 4,
   "id": "331255fa",
   "metadata": {},
   "outputs": [
    {
     "data": {
      "image/png": "[encoded data removed]",
      "text/plain": [
       "<Figure size 432x288 with 1 Axes>"
      ]
     },
     "metadata": {
      "needs_background": "light"
     },
     "output_type": "display_data"
    }
   ],
   "source": [
    "plt.plot(Yd, C, color='blue')\n",
    "plt.title(\"Gráfico 4.2 - Función de Demanda de Consumo\")\n",
    "plt.xlabel(\"C\")\n",
    "plt.ylabel(\"Yd\")\n",
    "plt.grid()\n",
    "\n",
    "texto1 = plt.text(30,55, r'$PMgC=\\frac{\\Delta  C}{\\Delta  Y}=b=0.5$', fontsize=15)\n",
    "texto1 = plt.text(30,15, r'$\\Delta  Y^d$', fontsize=15)\n",
    "texto1 = plt.text(42,25, r'$\\Delta  C$', fontsize=15)\n",
    "\n",
    "texto2 = plt.text(20,19, r'$------$', fontsize=16)\n",
    "texto2 = plt.text(39,30, r'$|$', fontsize=16)\n",
    "texto2 = plt.text(39,21, r'$|$', fontsize=16)\n",
    "texto2 = plt.text(39,26, r'$|$', fontsize=16)"
   ]
  },
  {
   "cell_type": "markdown",
   "id": "5bea2344",
   "metadata": {},
   "source": [
    "Segunda pregunta: derivar\n",
    "La fórmula de la Inversión se representa por una función en la que existe una dependencia inversa con la tasa de interés real (r) y en la que se presenta el componente autónomo (Io) el cual depende de las expectativas de los inversionistas. Finalmente la fórmula será esta:\n",
    "I = Io − hr\n",
    "Bibliografía: \"Apuntes de Macroeconomía intermedia\". Felix Jimenez. PUCP, departamento de economía"
   ]
  },
  {
   "cell_type": "markdown",
   "id": "5f98e312",
   "metadata": {},
   "source": [
    "### Segunda pregunta"
   ]
  },
  {
   "cell_type": "code",
   "execution_count": 5,
   "id": "cc1feb16",
   "metadata": {},
   "outputs": [
    {
     "data": {
      "text/plain": [
       "array([ 0,  1,  2,  3,  4,  5,  6,  7,  8,  9, 10, 11, 12, 13, 14, 15, 16,\n",
       "       17, 18, 19, 20, 21, 22, 23, 24, 25, 26, 27, 28, 29, 30, 31, 32, 33,\n",
       "       34, 35, 36, 37, 38, 39, 40, 41, 42, 43, 44, 45, 46, 47, 48, 49])"
      ]
     },
     "execution_count": 5,
     "metadata": {},
     "output_type": "execute_result"
    }
   ],
   "source": [
    "#Segunda pregunta:replicar\n",
    "Io=100\n",
    "h=0.5\n",
    "R_size=50\n",
    "r=np.arange(R_size)\n",
    "r"
   ]
  },
  {
   "cell_type": "code",
   "execution_count": 6,
   "id": "7832bb40",
   "metadata": {},
   "outputs": [
    {
     "data": {
      "text/plain": [
       "array([100. ,  99.5,  99. ,  98.5,  98. ,  97.5,  97. ,  96.5,  96. ,\n",
       "        95.5,  95. ,  94.5,  94. ,  93.5,  93. ,  92.5,  92. ,  91.5,\n",
       "        91. ,  90.5,  90. ,  89.5,  89. ,  88.5,  88. ,  87.5,  87. ,\n",
       "        86.5,  86. ,  85.5,  85. ,  84.5,  84. ,  83.5,  83. ,  82.5,\n",
       "        82. ,  81.5,  81. ,  80.5,  80. ,  79.5,  79. ,  78.5,  78. ,\n",
       "        77.5,  77. ,  76.5,  76. ,  75.5])"
      ]
     },
     "execution_count": 6,
     "metadata": {},
     "output_type": "execute_result"
    }
   ],
   "source": [
    "def I (Io, h, r):\n",
    "    I = Io - h*r\n",
    "    return I\n",
    "I = I(Io, h, r)\n",
    "I"
   ]
  },
  {
   "cell_type": "code",
   "execution_count": 7,
   "id": "844d06be",
   "metadata": {
    "scrolled": true
   },
   "outputs": [
    {
     "data": {
      "text/plain": [
       "([], [])"
      ]
     },
     "execution_count": 7,
     "metadata": {},
     "output_type": "execute_result"
    },
    {
     "data": {
      "image/png": "[encoded data removed]",
      "text/plain": [
       "<Figure size 432x288 with 1 Axes>"
      ]
     },
     "metadata": {},
     "output_type": "display_data"
    }
   ],
   "source": [
    "plt.plot(r, I, color=\"green\")\n",
    "plt.title(\"I = Io - hr \\n \\n Gráfico 4.3 \\n Función Demanda de Inversión\")\n",
    "plt.xlabel(\"r\")\n",
    "plt.ylabel(\"I\")\n",
    "plt.xticks([])\n",
    "plt.yticks([])"
   ]
  },
  {
   "cell_type": "markdown",
   "id": "79c3aaa2",
   "metadata": {},
   "source": [
    "### Tercera pregunta"
   ]
  },
  {
   "cell_type": "markdown",
   "id": "1977cb39",
   "metadata": {},
   "source": [
    "Tercera pregunta\n",
    "El modelo supone que:\n",
    "1. El nivel de precios es fijo\n",
    "2. El nivel del producto se adapta a los cambios en la demanda agregada\n",
    "3. La tasa de interés está determinada fuera del modelo, en el mercado monetario.\n",
    "4. Es un modelo a corto plazo\n",
    "Bibliografía: \"Apuntes de Macroeconomía intermedia\". Felix Jimenez. PUCP, departamento de economía"
   ]
  },
  {
   "cell_type": "markdown",
   "id": "cd6f148e",
   "metadata": {},
   "source": [
    "### Cuarta pregunta"
   ]
  },
  {
   "cell_type": "markdown",
   "id": "739fe5d8",
   "metadata": {},
   "source": [
    "Cuarta pregunta: derivar\n",
    "\n",
    "La ecuación de equilibrio para el Ingreso se deriva de la condición de equilibrio donde el nivel de producción es igual a la Demanda Agregada: $DA = Y$:\n",
    "\n",
    "$$ DA = C + I + G + X - M $$\n",
    "\n",
    "Donde:\n",
    "\n",
    "$$ C = C_0 + bY^d $$\n",
    "$$ I = I_0 - hr $$\n",
    "$$ G = G_0 $$\n",
    "$$ X = X_0 $$\n",
    "$$ M = mY^d $$\n",
    "\n",
    "$$ Y^d = 1 - t $$\n",
    "\n",
    "Entonces: \n",
    "\n",
    "$$ DA = C_0 + I_0 + G_0 + X_0 - hr + Y(b - m)(1 - t) $$\n",
    "\n",
    "De forma corta:\n",
    "\n",
    "$$ DA = α_0 + α_1Y $$\n",
    "\n",
    "Donde $ α_0 = (C_0 + I_0 + G_0 + X_0 -hr)$ es el intercepto y $ α_1 = (b - m)(1 - t) $ es la pendiente de la función\n",
    "\n",
    "Ahora, considerando la condición de equilibrio $Y = DA$, la ecuación del ingreso de equilibrio a corto plazo es:\n",
    "\n",
    "$$ Y^e = C_0 + bY^d + I_0 -hr + G_0 + X_0 - mY^d $$\n",
    "\n",
    "$$ Y^e = \\frac{1}{1 - (b - m)(1 - t)} (C_0 + I_0 + G_0 + X_0 - hr) $$\n",
    "\n",
    "Donde $\\frac{1}{1 - (b - m)(1 - t)}$ es el multiplicador keynesiano $(k)$.\n",
    "\n",
    "Bibliografía: \"Apuntes de Macroeconomía intermedia\". Felix Jimenez. PUCP, departamento de economía"
   ]
  },
  {
   "cell_type": "code",
   "execution_count": 8,
   "id": "421d44e1",
   "metadata": {},
   "outputs": [],
   "source": [
    "#Cuarta pregunta: replique\n",
    "Y_size = 100 \n",
    "Co = 35\n",
    "Io = 40\n",
    "Go = 70\n",
    "Xo = 2\n",
    "h = 0.7\n",
    "b = 0.8 # b > m\n",
    "m = 0.2\n",
    "t = 0.3\n",
    "r = 0.9\n",
    "Y = np.arange(Y_size)"
   ]
  },
  {
   "cell_type": "code",
   "execution_count": 9,
   "id": "1821d79b",
   "metadata": {},
   "outputs": [],
   "source": [
    "def DA_K(Co, Io, Go, Xo, h, r, b, m, t, Y):\n",
    "    DA_K = (Co + Io + Go + Xo - h*r) + ((b - m)*(1 - t)*Y)\n",
    "    return DA_K\n",
    "\n",
    "DA_IS_K = DA_K(Co, Io, Go, Xo, h, r, b, m, t, Y)"
   ]
  },
  {
   "cell_type": "code",
   "execution_count": 10,
   "id": "624761a8",
   "metadata": {},
   "outputs": [],
   "source": [
    "a = 2.5 \n",
    "\n",
    "def L_45(a, Y):\n",
    "    L_45 = a*Y\n",
    "    return L_45\n",
    "\n",
    "L_45 = L_45(a, Y)"
   ]
  },
  {
   "cell_type": "code",
   "execution_count": 11,
   "id": "fa36edd7",
   "metadata": {},
   "outputs": [
    {
     "data": {
      "image/png": "[encoded data removed]",
      "text/plain": [
       "<Figure size 720x576 with 1 Axes>"
      ]
     },
     "metadata": {},
     "output_type": "display_data"
    }
   ],
   "source": [
    "y_max = np.max(DA_IS_K)\n",
    "fig, ax = plt.subplots(figsize=(10, 8))\n",
    "\n",
    "ax.plot(Y, DA_IS_K, label = \"DA\", color = \"#3D59AB\")\n",
    "ax.plot(Y, L_45, color = \"#404040\") \n",
    "\n",
    "ax.yaxis.set_major_locator(plt.NullLocator())   \n",
    "ax.xaxis.set_major_locator(plt.NullLocator())\n",
    "\n",
    "plt.axvline(x=70.5,  ymin= 0, ymax= 0.69, linestyle = \":\", color = \"green\")\n",
    "plt.axhline(y=176, xmin= 0, xmax= 0.7, linestyle = \":\", color = \"green\")\n",
    "\n",
    "plt.axvline(x=70.5,  ymin= 0, ymax= 0.69, linestyle = \":\", color = \"grey\")\n",
    "plt.axhline(y=145, xmin= 0, xmax= 1, linestyle = \":\", color = \"grey\")\n",
    "\n",
    "plt.text(0, 180, '$DA^e$', fontsize = 11.5, color = 'turquoise')\n",
    "plt.text(72, 0, '$Y^e$', fontsize = 12, color = 'turquoise')\n",
    "plt.text(0, 152, '$α_o$', fontsize = 15, color = 'turquoise')\n",
    "\n",
    "plt.text(6, 4, '$45°$', fontsize = 11.5, color = 'blue')\n",
    "plt.text(2.5, -3, '$◝$', fontsize = 30, color = 'blue')\n",
    "\n",
    "plt.text(87, 203, '$DA = α_0 + α_1 Y$', fontsize = 11.5, color = '#3D59AB')\n",
    "plt.text(80, 165, '$α_1 = (b-m)(1-t)$', fontsize = 11.5, color = 'black')\n",
    "plt.text(73, 125, '$α_0 = C_o + I_o + G_o + X_o - hr$', fontsize = 11.5, color = 'black')\n",
    "\n",
    "plt.text(92, 192, '$↓$', fontsize = 13, color = 'black')\n",
    "plt.text(85, 135, '$↑$', fontsize = 13, color = 'black')\n",
    "\n",
    "ax.set(title=\"El ingreso de Equilibrio a Corto Plazo\", xlabel= r'Y', ylabel= r'DA')\n",
    "ax.legend()\n",
    "\n",
    "plt.show()"
   ]
  },
  {
   "cell_type": "markdown",
   "id": "c11283a3",
   "metadata": {},
   "source": [
    "### Quinta pregunta"
   ]
  },
  {
   "cell_type": "markdown",
   "id": "c152b76e",
   "metadata": {},
   "source": [
    "Quinta pregunta: derivar\n",
    "Política Fiscal Expansiva con aumento en el Gasto del Gobierno\n",
    "- Intuición: \n",
    "\n",
    "$$ ↑Go → ↑DA → DA > Y → ↑Y $$\n",
    "\n",
    "- Matemáticamente: $∆G_0 > 0  →  ¿∆Y?$\n",
    "\n",
    "$$ Y = \\frac{1}{1 - (b - m)(1 - t)} (C_0 + I_0 + G_0 + X_0 - hr) $$\n",
    "\n",
    "Considerando el multiplicador keynesiano $(k)$:\n",
    "\n",
    "$$ Y = k (C_0 + I_0 + G_0 + X_0 - hr) $$\n",
    "\n",
    "\n",
    "$$ ∆Y = k (∆C_0 + ∆I_0 + ∆G_0 + ∆X_0 - ∆hr) $$\n",
    "\n",
    "Pero, si no ha habido cambios en $C_0$, $I_0$, $X_0$, $h$ ni $r$, entonces: \n",
    "\n",
    "$$∆C_0 = ∆I_0 = ∆X_0 = ∆h = ∆r = 0$$\n",
    "\n",
    "$$ ∆Y = k (∆G_0) $$\n",
    "\n",
    "Sabiendo que $∆G_0 > 0 $ y que $k > 0$, la multiplicación de un número positivo con otro positivo dará un positivo:\n",
    "\n",
    "$$ ∆Y = (+)(+) $$\n",
    "$$ ∆Y > 0 $$"
   ]
  },
  {
   "cell_type": "code",
   "execution_count": 12,
   "id": "87e2991a",
   "metadata": {},
   "outputs": [
    {
     "data": {
      "text/latex": [
       "$\\displaystyle \\frac{1}{- \\left(1 - t\\right) \\left(b - m\\right) + 1}$"
      ],
      "text/plain": [
       "1/(-(1 - t)*(b - m) + 1)"
      ]
     },
     "execution_count": 12,
     "metadata": {},
     "output_type": "execute_result"
    }
   ],
   "source": [
    "# Diferenciales\n",
    "\n",
    "    # nombrar variables como símbolos\n",
    "Co, Io, Go, Xo, h, r, b, m, t = symbols('Co Io Go Xo h r b m t')\n",
    "\n",
    "    # determinar ecuación\n",
    "f = (Co + Io + Go + Xo - h*r)/(1-(b-m)*(1-t))\n",
    "\n",
    "    # función diferencial\n",
    "df_Go = diff(f, Go) # diff(función, variable_analizar\n",
    "df_Go #∆Y/∆Go"
   ]
  },
  {
   "cell_type": "markdown",
   "id": "f49c23a9",
   "metadata": {},
   "source": [
    "Considernado el diferencial obtenido:\n",
    "\n",
    "$$ \\frac{∆Y}{∆Go} = \\frac{1}{1 - (b - m)(1 - t)} $$\n",
    "\n",
    "Sabiendo que $∆G_0 > 0 $ y que $k > 0$, la multiplicación de un número positivo con otro positivo dará un positivo:\n",
    "\n",
    "$$ \\frac{∆Y}{(+)} = (+) $$\n",
    "$$ ∆Y = (+)(+) $$\n",
    "$$ ∆Y > 0 $$"
   ]
  },
  {
   "cell_type": "markdown",
   "id": "6c9fea50",
   "metadata": {},
   "source": [
    "Quinta pregunta: derivar 2\n",
    "\n",
    "Política Fiscal Expansiva con reducción en la Tasa de tributación\n",
    "\n",
    "- Intuición: ¿contradicción?\n",
    "\n",
    "$$ t↓ → Co↑ → DA↑ → DA > Y → Y↑ $$\n",
    "$$ t↓ → M↑ → DA↓ → DA < Y → Y↓ $$\n"
   ]
  },
  {
   "cell_type": "markdown",
   "id": "74adbcbb",
   "metadata": {},
   "source": [
    "- Matemáticamente: $∆t < 0  →  ¿∆Y?$"
   ]
  },
  {
   "cell_type": "code",
   "execution_count": 13,
   "id": "37029beb",
   "metadata": {},
   "outputs": [
    {
     "data": {
      "text/latex": [
       "$\\displaystyle \\frac{\\left(- b + m\\right) \\left(Co + Go + Io + Xo - h r\\right)}{\\left(- \\left(1 - t\\right) \\left(b - m\\right) + 1\\right)^{2}}$"
      ],
      "text/plain": [
       "(-b + m)*(Co + Go + Io + Xo - h*r)/(-(1 - t)*(b - m) + 1)**2"
      ]
     },
     "execution_count": 13,
     "metadata": {},
     "output_type": "execute_result"
    }
   ],
   "source": [
    "Co, Io, Go, Xo, h, r, b, m, t = symbols('Co Io Go Xo h r b m t')\n",
    "\n",
    "f = (Co + Io + Go + Xo - h*r)/(1-(b-m)*(1-t))\n",
    "\n",
    "\n",
    "df_t = diff(f, t)\n",
    "df_t #∆Y/∆t"
   ]
  },
  {
   "cell_type": "markdown",
   "id": "5ae61e76",
   "metadata": {},
   "source": [
    "Considernado el diferencial de $∆t$:\n",
    "\n",
    "$$ \\frac{∆Y}{∆t} = \\frac{(m-b)(Co + Go + Io + Xo - hr)}{(1-(1-t)(b-m)+1)^2} $$\n",
    "\n",
    "- Sabiendo que b > m, entonces $(m-b) < 0$\n",
    "- Los componentes autónomos no cambian: $∆C_0 = ∆I_0 = ∆X_0 = ∆h = ∆r = 0$\n",
    "- Cualquier número elevado al cuadrado será positivo: $ (1-(1-t)(b-m)+1)^2 > 0 $\n",
    "\n",
    "Entonces:\n",
    "\n",
    "$$ \\frac{∆Y}{∆t} = \\frac{(-)}{(+)} $$\n",
    "\n",
    "Dado que $∆t < 0$, la división de dos positivos da otro positivo:\n",
    "\n",
    "$$ \\frac{∆Y}{(-)} = \\frac{(-)}{(+)} $$\n",
    "\n",
    "$$ ∆Y = \\frac{(-)(-)}{(+)} $$\n",
    "\n",
    "$$ ∆Y > 0 $$"
   ]
  },
  {
   "cell_type": "code",
   "execution_count": 16,
   "id": "071be2bf",
   "metadata": {},
   "outputs": [],
   "source": [
    "# GRAFICANDO\n",
    "# Política fiscal expansiva con un aumento en el gasto del gobierno\n",
    "\n",
    "# Curva de ingreso de equilibrio ORIGINAL\n",
    "\n",
    "    # Parámetros\n",
    "Y_size = 100 \n",
    "\n",
    "Co = 35\n",
    "Io = 40\n",
    "Go = 70\n",
    "Xo = 2\n",
    "h = 0.7\n",
    "b = 0.8\n",
    "m = 0.2\n",
    "t = 0.3\n",
    "r = 0.9\n",
    "\n",
    "Y = np.arange(Y_size)\n",
    "\n",
    "    # Ecuación \n",
    "def DA_K(Co, Io, Go, Xo, h, r, b, m, t, Y):\n",
    "    DA_K = (Co + Io + Go + Xo - h*r) + ((b - m)*(1 - t)*Y)\n",
    "    return DA_K\n",
    "\n",
    "DA_IS_K = DA_K(Co, Io, Go, Xo, h, r, b, m, t, Y)\n",
    "\n",
    "\n",
    "#--------------------------------------------------\n",
    "# NUEVA curva de ingreso de equilibrio\n",
    "\n",
    "    # Definir SOLO el parámetro cambiado\n",
    "Go = 100\n",
    "\n",
    "# Generar la ecuación con el nuevo parámetro\n",
    "def DA_K(Co, Io, Go, Xo, h, r, b, m, t, Y):\n",
    "    DA_K = (Co + Io + Go + Xo - h*r) + ((b - m)*(1 - t)*Y)\n",
    "    return DA_K\n",
    "\n",
    "DA_G = DA_K(Co, Io, Go, Xo, h, r, b, m, t, Y)"
   ]
  },
  {
   "cell_type": "code",
   "execution_count": 17,
   "id": "55b609d0",
   "metadata": {},
   "outputs": [
    {
     "data": {
      "text/plain": [
       "(175.9254807692308, 70.37019230769232)"
      ]
     },
     "execution_count": 17,
     "metadata": {},
     "output_type": "execute_result"
    }
   ],
   "source": [
    "# líneas punteadas autómaticas\n",
    "\n",
    "    # definir la función line_intersection\n",
    "def line_intersection(line1, line2):\n",
    "    xdiff = (line1[0][0] - line1[1][0], line2[0][0] - line2[1][0])\n",
    "    ydiff = (line1[0][1] - line1[1][1], line2[0][1] - line2[1][1])\n",
    "\n",
    "    def det(a, b):\n",
    "        return a[0] * b[1] - a[1] * b[0]\n",
    "\n",
    "    div = det(xdiff, ydiff)\n",
    "    if div == 0:\n",
    "       raise Exception('lines do not intersect')\n",
    "\n",
    "    d = (det(*line1), det(*line2))\n",
    "    x = det(d, xdiff) / div\n",
    "    y = det(d, ydiff) / div\n",
    "    return x, y\n",
    "\n",
    "    # coordenadas de las curvas (x,y)\n",
    "A = [DA_IS_K[0], Y[0]] # DA, coordenada inicio\n",
    "B = [DA_IS_K[-1], Y[-1]] # DA, coordenada fin\n",
    "\n",
    "C = [L_45[0], Y[0]] # L_45, coordenada inicio\n",
    "D = [L_45[-1], Y[-1]] # L_45, coordenada fin\n",
    "\n",
    "    # creación de intersección\n",
    "\n",
    "intersec = line_intersection((A, B), (C, D))\n",
    "intersec # (y,x)"
   ]
  },
  {
   "cell_type": "code",
   "execution_count": 18,
   "id": "bb781024",
   "metadata": {},
   "outputs": [
    {
     "data": {
      "text/plain": [
       "(211.9831730769231, 84.79326923076924)"
      ]
     },
     "execution_count": 18,
     "metadata": {},
     "output_type": "execute_result"
    }
   ],
   "source": [
    "    # coordenadas de las curvas (x,y)\n",
    "A = [DA_G[0], Y[0]] # DA, coordenada inicio\n",
    "B = [DA_G[-1], Y[-1]] # DA, coordenada fin\n",
    "\n",
    "C = [L_45[0], Y[0]] # L_45, coordenada inicio\n",
    "D = [L_45[-1], Y[-1]] # L_45, coordenada fin\n",
    "\n",
    "    # creación de intersección\n",
    "\n",
    "intersec_G = line_intersection((A, B), (C, D))\n",
    "intersec_G # (y,x)"
   ]
  },
  {
   "cell_type": "code",
   "execution_count": 19,
   "id": "b09dbea3",
   "metadata": {},
   "outputs": [
    {
     "data": {
      "image/png": "[encoded data removed]",
      "text/plain": [
       "<Figure size 720x576 with 1 Axes>"
      ]
     },
     "metadata": {
      "needs_background": "light"
     },
     "output_type": "display_data"
    }
   ],
   "source": [
    "# Gráfico\n",
    "y_max = np.max(DA_IS_K)\n",
    "fig, ax = plt.subplots(figsize=(10, 8))\n",
    "\n",
    "\n",
    "# Curvas a graficar\n",
    "ax.plot(Y, DA_IS_K, label = \"DA^e\", color = \"#3D59AB\") #curva ORIGINAL\n",
    "ax.plot(Y, DA_G, label = \"DA_G\", color = \"#EE7600\", linestyle = 'dashed') #NUEVA curva\n",
    "ax.plot(Y, L_45, color = \"#404040\") #línea de 45º\n",
    "\n",
    "# Lineas punteadas\n",
    "plt.axhline(y=intersec[0], xmin= 0, xmax= 0.69, linestyle = \":\", color = \"grey\")\n",
    "plt.axvline(x=intersec[1], ymin= 0, ymax= 0.69, linestyle = \":\", color = \"grey\")\n",
    "\n",
    "plt.axhline(y=intersec_G[0], xmin= 0, xmax= 0.82, linestyle = \":\", color = \"grey\")\n",
    "plt.axvline(x=intersec_G[1], ymin= 0, ymax= 0.82, linestyle = \":\", color = \"grey\")\n",
    "\n",
    "\n",
    "# Texto agregado\n",
    "plt.text(0, 135, '$DA^e$', fontsize = 11.5, color = 'black')\n",
    "plt.text(0, 182, '$DA_G$', fontsize = 11.5, color = '#EE7600')\n",
    "plt.text(6, 4, '$45°$', fontsize = 11.5, color = 'black')\n",
    "plt.text(2.5, -3, '$◝$', fontsize = 30, color = '#404040')\n",
    "plt.text(72, 0, '$Y^e$', fontsize = 12, color = 'black')\n",
    "plt.text(87, 0, '$Y_G$', fontsize = 12, color = '#EE7600')\n",
    "plt.text(76, 45, '$→$', fontsize = 18, color = 'grey')\n",
    "plt.text(20, 165, '$↑$', fontsize = 18, color = 'grey')\n",
    "\n",
    "# Título y leyenda\n",
    "ax.set(title = \"Incremento del Gasto del Gobierno $(G_0)$\", xlabel = r'Y', ylabel = r'DA')\n",
    "ax.legend()\n",
    "\n",
    "plt.show()"
   ]
  },
  {
   "cell_type": "code",
   "execution_count": 20,
   "id": "4a8a267d",
   "metadata": {},
   "outputs": [],
   "source": [
    "#Quinta pregunta\n",
    "#Política fiscal expansiva con una reducción de la tasa de tributación\n",
    "Y_size = 100 \n",
    "Co = 35\n",
    "Io = 40\n",
    "Go = 70\n",
    "Xo = 2\n",
    "h = 0.7\n",
    "b = 0.8\n",
    "m = 0.2\n",
    "t = 0.3\n",
    "r = 0.9\n",
    "Y = np.arange(Y_size)\n",
    "\n",
    "def DA_K(Co, Io, Go, Xo, h, r, b, m, t, Y):\n",
    "    DA_K = (Co + Io + Go + Xo - h*r) + ((b - m)*(1 - t)*Y)\n",
    "    return DA_K\n",
    "\n",
    "DA_IS_K = DA_K(Co, Io, Go, Xo, h, r, b, m, t, Y)\n",
    "\n",
    "t = 0.01\n",
    "\n",
    "def DA_K(Co, Io, Go, Xo, h, r, b, m, t, Y):\n",
    "    DA_K = (Co + Io + Go + Xo - h*r) + ((b - m)*(1 - t)*Y)\n",
    "    return DA_K\n",
    "\n",
    "DA_t = DA_K(Co, Io, Go, Xo, h, r, b, m, t, Y)"
   ]
  },
  {
   "cell_type": "code",
   "execution_count": 21,
   "id": "616693de",
   "metadata": {},
   "outputs": [
    {
     "data": {
      "image/png": "[encoded data removed]",
      "text/plain": [
       "<Figure size 720x576 with 1 Axes>"
      ]
     },
     "metadata": {
      "needs_background": "light"
     },
     "output_type": "display_data"
    }
   ],
   "source": [
    "y_max = np.max(DA_IS_K)\n",
    "fig, ax = plt.subplots(figsize=(10, 8))\n",
    "\n",
    "ax.plot(Y, DA_IS_K, label = \"DA\", color = \"#3D59AB\")\n",
    "ax.plot(Y, DA_t, label = \"DA_t\", color = \"#EE7600\", linestyle = 'dashed')\n",
    "ax.plot(Y, L_45, color = \"#404040\")\n",
    "\n",
    "plt.axvline(x = 70.5, ymin= 0, ymax = 0.69, linestyle = \":\", color = \"blue\")\n",
    "plt.axhline(y = 176, xmin= 0, xmax = 0.7, linestyle = \":\", color = \"blue\")\n",
    "plt.axvline(x = 77,  ymin= 0, ymax = 0.75, linestyle = \":\", color = \"blue\")\n",
    "plt.axhline(y = 192, xmin= 0, xmax = 0.75, linestyle = \":\", color = \"blue\")\n",
    "\n",
    "plt.text(0, 180, '$DA^e$', fontsize = 11.5, color = 'black')\n",
    "plt.text(0, 200, '$DA_t$', fontsize = 11.5, color = '#EE7600')\n",
    "plt.text(6, 4, '$45°$', fontsize = 11.5, color = 'black')\n",
    "plt.text(2.5, -3, '$◝$', fontsize = 30, color = '#404040')\n",
    "plt.text(72, 0, '$Y^e$', fontsize = 12, color = 'black')\n",
    "plt.text(80, 0, '$Y_t$', fontsize = 12, color = '#EE7600')\n",
    "plt.text(72, 45, '$→$', fontsize = 18, color = 'grey')\n",
    "plt.text(20, 180, '$↑$', fontsize = 18, color = 'grey')\n",
    "\n",
    "ax.set(title = \"Reducción de la Tasa de Tributación\", xlabel = r'Y', ylabel = r'DA')\n",
    "ax.legend()\n",
    "\n",
    "plt.show()"
   ]
  },
  {
   "cell_type": "markdown",
   "id": "bb169766",
   "metadata": {},
   "source": [
    "### Sexta pregunta"
   ]
  },
  {
   "cell_type": "markdown",
   "id": "92f2cbbb",
   "metadata": {},
   "source": [
    "a. Grafique la Funcion de demanda Agregada y la recta de 45 grados señalando los valores de intercepto y pendiente como en el apartado (4)."
   ]
  },
  {
   "cell_type": "code",
   "execution_count": 22,
   "id": "c7c1ac63",
   "metadata": {},
   "outputs": [],
   "source": [
    "# Parámetros\n",
    "\n",
    "Y_size = 100 \n",
    "\n",
    "Co = 35\n",
    "Io = 40\n",
    "Go = 70\n",
    "g = 0.2 #solo valores entre 0-0.4\n",
    "Xo = 2\n",
    "h = 0.7\n",
    "b = 0.8 # b > m\n",
    "m = 0.2\n",
    "t = 0.3\n",
    "r = 0.9\n",
    "\n",
    "Y = np.arange(Y_size)\n",
    "\n",
    "# Ecuación de la curva del ingreso de equilibrio\n",
    "\n",
    "def DA_C(Co, Io, Go, Xo, h, r, b, m, t, g, Y):\n",
    "    DA_C = (Co  + Io + Go + Xo - h*r) + [(b-m)*(1-t)-g]*Y\n",
    "    return DA_C\n",
    "\n",
    "DA_Cont = DA_C(Co, Io, Go, Xo, h, r, b, m, t, g, Y)"
   ]
  },
  {
   "cell_type": "code",
   "execution_count": 23,
   "id": "c073c68b",
   "metadata": {},
   "outputs": [
    {
     "data": {
      "image/png": "[encoded data removed]",
      "text/plain": [
       "<Figure size 720x576 with 1 Axes>"
      ]
     },
     "metadata": {},
     "output_type": "display_data"
    }
   ],
   "source": [
    "# Gráfico\n",
    "\n",
    "# Dimensiones del gráfico\n",
    "y_max = np.max(DA_Cont)\n",
    "fig, ax = plt.subplots(figsize=(10, 8))\n",
    "\n",
    "# Curvas a graficar\n",
    "ax.plot(DA_Cont, label = \"DA\", color = \"#3D59AB\") #Demanda agregada\n",
    "ax.plot(L_45, color = \"#404040\") #Línea de 45º\n",
    "\n",
    "# Eliminar las cantidades de los ejes\n",
    "ax.yaxis.set_major_locator(plt.NullLocator())   \n",
    "ax.xaxis.set_major_locator(plt.NullLocator())\n",
    "\n",
    "# Líneas punteadas punto de equilibrio\n",
    "plt.axvline(x=64,  ymin= 0, ymax= 0.63, linestyle = \":\", color = \"grey\")\n",
    "plt.axhline(y=161, xmin= 0, xmax= 0.63, linestyle = \":\", color = \"grey\")\n",
    "plt.axhline(y=145, xmin= 0, xmax= 1, linestyle = \":\", color = \"grey\")\n",
    "\n",
    "# Texto agregado\n",
    "    # punto de equilibrio\n",
    "plt.text(0, 165, '$DA^e$', fontsize = 11.5, color = 'black')\n",
    "plt.text(65, 0, '$Y^e$', fontsize = 12, color = 'black')\n",
    "plt.text(0, 135, '$α_o$', fontsize = 15, color = 'black')\n",
    "    # línea 45º\n",
    "plt.text(6, 4, '$45°$', fontsize = 11.5, color = 'black')\n",
    "plt.text(2.5, -3, '$◝$', fontsize = 30, color = '#404040')\n",
    "    # ecuaciones\n",
    "plt.text(82, 185, '$DA = α_0 + α_1 Y$', fontsize = 11.5, color = '#3D59AB')\n",
    "plt.text(75, 151, '$α_1 = [(b-m)(1-t)-g]$', fontsize = 11.5, color = 'black')\n",
    "plt.text(73, 125, '$α_0 = C_o + I_o + G_o + X_o - hr$', fontsize = 11.5, color = 'black')\n",
    "\n",
    "plt.text(87, 175, '$↓$', fontsize = 13, color = 'black')\n",
    "plt.text(85, 135, '$↑$', fontsize = 13, color = 'black')\n",
    "\n",
    "# Título y leyenda\n",
    "ax.set(title=\"El ingreso de Equilibrio a Corto Plazo con regla contracíclica\", xlabel= r'Y', ylabel= r'DA')\n",
    "ax.legend() #mostrar leyenda\n",
    "\n",
    "plt.show()"
   ]
  },
  {
   "cell_type": "markdown",
   "id": "c312c986",
   "metadata": {},
   "source": [
    "b. Encuentre el nivel de Ingreso de equilibrio Ye"
   ]
  },
  {
   "cell_type": "markdown",
   "id": "e61eac57",
   "metadata": {},
   "source": [
    "La ecuación de equilibrio para el Ingreso se deriva de la condición de equilibrio donde el nivel de producción es igual a la Demanda Agregada: $DA = Y$:\n",
    "\n",
    "$$ DA = C + I + G + X - M $$\n",
    "\n",
    "Donde:\n",
    "\n",
    "$$ C = C_0 + bY^d $$\n",
    "$$ I = I_0 - hr $$\n",
    "$$ G = G_0 - gY $$\n",
    "$$ X = X_0 $$\n",
    "$$ M = mY^d $$\n",
    "\n",
    "$$ Y^d = 1 - t $$\n",
    "\n",
    "Entonces: \n",
    "\n",
    "$$ DA = C_0 + I_0 + G_0 + X_0 - hr + Y[(b - m)(1 - t) - g] $$\n",
    "\n",
    "De forma corta:\n",
    "\n",
    "$$ DA = α_0 + α_1Y $$\n",
    "\n",
    "Donde $ α_0 = (C_0 + I_0 + G_0 + X_0 -hr)$ es el intercepto y $ α_1 = [(b - m)(1 - t) - g] $ es la pendiente de la función\n",
    "\n",
    "Ahora, considerando la condición de equilibrio $Y = DA$, la ecuación del ingreso de equilibrio a corto plazo es:\n",
    "\n",
    "$$ Y^e = \\frac{1}{1 - (b - m)(1 - t) + g} (C_0 + I_0 + G_0 + X_0 - hr) $$"
   ]
  },
  {
   "cell_type": "markdown",
   "id": "347f50a3",
   "metadata": {},
   "source": [
    "c. Analice una Política Fiscal Expansiva con aumento del Gasto del Gobierno (△G > 0). El análisis debe ser intuitivo, matemático y gráfico."
   ]
  },
  {
   "cell_type": "markdown",
   "id": "95dcd1e7",
   "metadata": {},
   "source": [
    "\n",
    "- Intuición: \n",
    "\n",
    "$$ ↑Go → ↑DA → DA > Y → ↑Y $$\n",
    "\n",
    "Si el gobierno decide aumentar su gasto, las variables exógenas que no alteran serían la tasa de interés real, el consumo, la inversión y las exportaciones autónomas. Por otro lado, este aumento del gasto del gobierno hace que se eleve la magnitud del intercepto de la función de DA. Entonces política fiscal expansiva: al aumentar el gasto -> aumenta la demanda agregada -> aumenta el ingreso de equilibrio\n"
   ]
  },
  {
   "cell_type": "markdown",
   "id": "5e510d1d",
   "metadata": {},
   "source": [
    "- Matemáticamente: $∆G_0 < 0  →  ¿∆Y?$"
   ]
  },
  {
   "cell_type": "code",
   "execution_count": 24,
   "id": "b79e4eda",
   "metadata": {},
   "outputs": [
    {
     "data": {
      "text/latex": [
       "$\\displaystyle \\frac{1}{g - \\left(1 - t\\right) \\left(b - m\\right) + 1}$"
      ],
      "text/plain": [
       "1/(g - (1 - t)*(b - m) + 1)"
      ]
     },
     "execution_count": 24,
     "metadata": {},
     "output_type": "execute_result"
    }
   ],
   "source": [
    "# Diferenciales\n",
    "\n",
    "    # nombrar variables como símbolos\n",
    "Co, Io, Go, Xo, h, r, b, m, t, g = symbols('Co Io Go Xo h r b m t g')\n",
    "\n",
    "    # determinar ecuación\n",
    "f = (Co + Io + Go + Xo - h*r)/(1 - (b - m)*(1 - t) + g)\n",
    "\n",
    "    # función diferencial\n",
    "df_Go = diff(f, Go) # diff(función, variable_analizar\n",
    "df_Go #∆Y/∆Go"
   ]
  },
  {
   "cell_type": "markdown",
   "id": "4d8a421b",
   "metadata": {},
   "source": [
    "Considernado el diferencial obtenido:\n",
    "\n",
    "$$ \\frac{∆Y}{∆Go} = \\frac{1}{1 - (b - m)(1 - t) + g} $$"
   ]
  },
  {
   "cell_type": "markdown",
   "id": "8b6fd2ff",
   "metadata": {},
   "source": [
    "Sabiendo que al multiplicador keynesiano $(k > 0)$ se le adiciona el parámetro $g$, el denominador continuará siendo positivo (aunque más grande y con una pendiente de curva reducida).\n",
    "\n",
    "Y considerando que $∆G_0 > 0 $, la multiplicación de un número positivo con otro positivo dará un positivo:\n",
    "\n",
    "$$ \\frac{∆Y}{(+)} = (+) $$\n",
    "$$ ∆Y = (+)(+) $$\n",
    "$$ ∆Y > 0 $$"
   ]
  },
  {
   "cell_type": "code",
   "execution_count": 25,
   "id": "0a7b1ea4",
   "metadata": {},
   "outputs": [],
   "source": [
    "#graficando\n",
    "# Parámetros\n",
    "\n",
    "Y_size = 100 \n",
    "\n",
    "Co = 35\n",
    "Io = 40\n",
    "Go = 70\n",
    "Xo = 2\n",
    "h = 0.7\n",
    "b = 0.8\n",
    "m = 0.2\n",
    "t = 0.3\n",
    "r = 0.9\n",
    "g = 0.2\n",
    "\n",
    "Y = np.arange(Y_size)\n",
    "\n",
    "# Ecuación de la curva del ingreso de equilibrio\n",
    "\n",
    "def DA_C(Co, Io, Go, Xo, h, r, b, m, t, g, Y):\n",
    "    DA_C = (Co  + Io + Go + Xo - h*r) + [(b-m)*(1-t)-g]*Y\n",
    "    return DA_C\n",
    "\n",
    "DA_Cont = DA_C(Co, Io, Go, Xo, h, r, b, m, t, g, Y)\n",
    "\n",
    "\n",
    "# Nueva curva\n",
    "\n",
    "Go = 100\n",
    "\n",
    "def DA_C(Co, Io, Go, Xo, h, r, b, m, t, g, Y):\n",
    "    DA_C = (Co  + Io + Go + Xo - h*r) + [(b-m)*(1-t)-g]*Y\n",
    "    return DA_C\n",
    "\n",
    "DA_C_G = DA_C(Co, Io, Go, Xo, h, r, b, m, t, g, Y)"
   ]
  },
  {
   "cell_type": "code",
   "execution_count": 26,
   "id": "1d13b618",
   "metadata": {},
   "outputs": [
    {
     "data": {
      "text/plain": [
       "(160.4934210526316, 64.19736842105264)"
      ]
     },
     "execution_count": 26,
     "metadata": {},
     "output_type": "execute_result"
    }
   ],
   "source": [
    "# líneas punteadas autómaticas\n",
    "\n",
    "    # definir la función line_intersection\n",
    "def line_intersection(line1, line2):\n",
    "    xdiff = (line1[0][0] - line1[1][0], line2[0][0] - line2[1][0])\n",
    "    ydiff = (line1[0][1] - line1[1][1], line2[0][1] - line2[1][1])\n",
    "\n",
    "    def det(a, b):\n",
    "        return a[0] * b[1] - a[1] * b[0]\n",
    "\n",
    "    div = det(xdiff, ydiff)\n",
    "    if div == 0:\n",
    "       raise Exception('lines do not intersect')\n",
    "\n",
    "    d = (det(*line1), det(*line2))\n",
    "    x = det(d, xdiff) / div\n",
    "    y = det(d, ydiff) / div\n",
    "    return x, y\n",
    "\n",
    "    # coordenadas de las curvas (x,y)\n",
    "A = [DA_Cont[0], Y[0]] # DA, coordenada inicio\n",
    "B = [DA_Cont[-1], Y[-1]] # DA, coordenada fin\n",
    "\n",
    "C = [L_45[0], Y[0]] # L_45, coordenada inicio\n",
    "D = [L_45[-1], Y[-1]] # L_45, coordenada fin\n",
    "\n",
    "    # creación de intersección\n",
    "\n",
    "intersec = line_intersection((A, B), (C, D))\n",
    "intersec # (y,x)"
   ]
  },
  {
   "cell_type": "code",
   "execution_count": 27,
   "id": "a6a86ea9",
   "metadata": {},
   "outputs": [
    {
     "data": {
      "text/plain": [
       "(193.38815789473685, 77.35526315789474)"
      ]
     },
     "execution_count": 27,
     "metadata": {},
     "output_type": "execute_result"
    }
   ],
   "source": [
    "    # coordenadas de las curvas (x,y)\n",
    "A = [DA_C_G[0], Y[0]] # DA, coordenada inicio\n",
    "B = [DA_C_G[-1], Y[-1]] # DA, coordenada fin\n",
    "\n",
    "C = [L_45[0], Y[0]] # L_45, coordenada inicio\n",
    "D = [L_45[-1], Y[-1]] # L_45, coordenada fin\n",
    "\n",
    "    # creación de intersección\n",
    "\n",
    "intersec_G = line_intersection((A, B), (C, D))\n",
    "intersec_G # (y,x)"
   ]
  },
  {
   "cell_type": "code",
   "execution_count": 28,
   "id": "5584cfae",
   "metadata": {},
   "outputs": [
    {
     "data": {
      "image/png": "[encoded data removed]",
      "text/plain": [
       "<Figure size 720x576 with 1 Axes>"
      ]
     },
     "metadata": {
      "needs_background": "light"
     },
     "output_type": "display_data"
    }
   ],
   "source": [
    "# Gráfico\n",
    "y_max = np.max(DA_Cont)\n",
    "fig, ax = plt.subplots(figsize=(10, 8))\n",
    "\n",
    "\n",
    "# Curvas a graficar\n",
    "ax.plot(DA_Cont, label = \"DA\", color = \"#3D59AB\") #curva ORIGINAL\n",
    "ax.plot(DA_C_G, label = \"DA_G\", color = \"#EE7600\", linestyle = 'dashed') #NUEVA curva\n",
    "ax.plot(L_45, color = \"#404040\") #línea de 45º\n",
    "\n",
    "# Lineas punteadas\n",
    "plt.axhline(y=intersec[0], xmin= 0, xmax= 0.64, linestyle = \":\", color = \"grey\")\n",
    "plt.axvline(x=intersec[1], ymin= 0, ymax= 0.64, linestyle = \":\", color = \"grey\")\n",
    "\n",
    "plt.axhline(y=intersec_G[0], xmin= 0, xmax= 0.76, linestyle = \":\", color = \"grey\")\n",
    "plt.axvline(x=intersec_G[1], ymin= 0, ymax= 0.76, linestyle = \":\", color = \"grey\")\n",
    "\n",
    "\n",
    "# Texto agregado\n",
    "plt.text(0, 135, '$DA^e$', fontsize = 11.5, color = 'black')\n",
    "plt.text(0, 182, '$DA_G$', fontsize = 11.5, color = '#EE7600')\n",
    "plt.text(6, 4, '$45°$', fontsize = 11.5, color = 'black')\n",
    "plt.text(2.5, -3, '$◝$', fontsize = 30, color = '#404040')\n",
    "plt.text(60, 0, '$Y^e$', fontsize = 12, color = 'black')\n",
    "plt.text(72, 0, '$Y_G$', fontsize = 12, color = '#EE7600')\n",
    "plt.text(70, 45, '$→$', fontsize = 18, color = 'grey')\n",
    "plt.text(20, 165, '$↑$', fontsize = 18, color = 'grey')\n",
    "\n",
    "# Título y leyenda\n",
    "ax.set(title = \"Incremento del Gasto del Gobierno $(G_0)$\", xlabel = r'Y', ylabel = r'DA')\n",
    "ax.legend()\n",
    "\n",
    "plt.show()"
   ]
  },
  {
   "cell_type": "markdown",
   "id": "e40411a2",
   "metadata": {},
   "source": [
    "d. ¿Cuál es el papel que juega el parametro g en el multiplicador keynesiano? \"Un cambio en cualquiera de los componentes autónomos de la demanda agregada, generará un proceso multiplicador del ingreso hasta converger al nuevo ingreso y producto del equilibrio\".En este sentido, en el multiplicador keynesiano, el aumento del ingreso se da por el aumento de cualquiera de los componentes autónomos de la DA. Si bien este multiplicador depende de \"b, m y t\", el parámetro g se ve afectado también.\n",
    "\n",
    "Bibliografía: \"Apuntes de Macroeconomía intermedia\". Felix Jimenez. PUCP, departamento de economía"
   ]
  },
  {
   "cell_type": "markdown",
   "id": "009875f9",
   "metadata": {},
   "source": [
    "e. ¿El tamaño del efecto de la politica fiscal encontrado en 6 es el mismo que en el apartado 5?\n",
    "No, el tamaño del efecto de la política fiscal del ejercicio 6) es menor al efecto del ejercicio 5).  Esto se debe a que el valor del multiplicador keynesiano $(k)$ se ha reducido por la adición de $g$ en el denominador. Entonces, si $k$ es más pequeño, el impacto de una política fiscal expansiva $(∆G_0)$ será menor cuando se utilice la regla contracíclica (la adición de $g$). De allí que la pendiente de la curva de la Demanda Agregada $(DA)$ sea menor en el apartado 6). \n",
    "\n",
    "Bibliografía: \"Apuntes de Macroeconomía intermedia\". Felix Jimenez. PUCP, departamento de economía"
   ]
  },
  {
   "cell_type": "markdown",
   "id": "971dc1db",
   "metadata": {},
   "source": [
    "f. Analice una crisis mundial que reduce nuestras exportaciones (△Xo < 0). El análisis debe ser intuitivo, matemático y gráfico."
   ]
  },
  {
   "cell_type": "markdown",
   "id": "ca7f94fb",
   "metadata": {},
   "source": [
    "- Intuición: \n",
    "\n",
    "$$ ↓Xo → ↓DA → DA < Y → ↓Y $$"
   ]
  },
  {
   "cell_type": "code",
   "execution_count": 29,
   "id": "a01079e7",
   "metadata": {},
   "outputs": [
    {
     "data": {
      "text/latex": [
       "$\\displaystyle \\frac{1}{g - \\left(1 - t\\right) \\left(b - m\\right) + 1}$"
      ],
      "text/plain": [
       "1/(g - (1 - t)*(b - m) + 1)"
      ]
     },
     "execution_count": 29,
     "metadata": {},
     "output_type": "execute_result"
    }
   ],
   "source": [
    "#Matemáticamente\n",
    "# Diferenciales\n",
    "\n",
    "    # nombrar variables como símbolos\n",
    "Co, Io, Go, Xo, h, r, b, m, t, g = symbols('Co Io Go Xo h r b m t g')\n",
    "\n",
    "    # determinar ecuación\n",
    "f = (Co + Io + Go + Xo - h*r)/(1 - (b - m)*(1 - t) + g)\n",
    "\n",
    "    # función diferencial\n",
    "df_Xo = diff(f, Xo) # diff(función, variable_analizar\n",
    "df_Xo #∆Y/∆Go\n",
    "\n"
   ]
  },
  {
   "cell_type": "markdown",
   "id": "b926f0b1",
   "metadata": {},
   "source": [
    "Considernado el diferencial obtenido:\n",
    "\n",
    "$$ \\frac{∆Y}{∆X_0} = \\frac{1}{1 - (b - m)(1 - t) + g} $$"
   ]
  },
  {
   "cell_type": "markdown",
   "id": "7776c49a",
   "metadata": {},
   "source": [
    "Sabiendo que al multiplicador keynesiano $(k > 0)$ se le adiciona el parámetro $g$, el denominador continuará siendo positivo (aunque más grande y con una pendiente de curva reducida).\n",
    "\n",
    "Y considerando que $∆X_0 < 0 $, la multiplicación de un número positivo con un negativo dará un negativo:\n",
    "\n",
    "$$ \\frac{∆Y}{(-)} = (+) $$\n",
    "$$ ∆Y = (-)(+) $$\n",
    "$$ ∆Y < 0 $$"
   ]
  },
  {
   "cell_type": "code",
   "execution_count": 30,
   "id": "ae415d50",
   "metadata": {},
   "outputs": [],
   "source": [
    "#Graficamente\n",
    "# Parámetros\n",
    "\n",
    "Y_size = 100 \n",
    "\n",
    "Co = 35\n",
    "Io = 40\n",
    "Go = 70\n",
    "g = 0.2 #solo valores entre 0-0.4\n",
    "Xo = 15\n",
    "h = 0.7\n",
    "b = 0.8 # b > m\n",
    "m = 0.2\n",
    "t = 0.3\n",
    "r = 0.9\n",
    "\n",
    "Y = np.arange(Y_size)\n",
    "\n",
    "# Ecuación de la curva del ingreso de equilibrio\n",
    "\n",
    "def DA_C(Co, Io, Go, Xo, h, r, b, m, t, g, Y):\n",
    "    DA_C = (Co  + Io + Go + Xo - h*r) + [(b-m)*(1-t)-g]*Y\n",
    "    return DA_C\n",
    "\n",
    "DA_Cont = DA_C(Co, Io, Go, Xo, h, r, b, m, t, g, Y)\n",
    "\n",
    "\n",
    "# Nueva curva\n",
    "\n",
    "Xo = 1\n",
    "\n",
    "def DA_C(Co, Io, Go, Xo, h, r, b, m, t, g, Y):\n",
    "    DA_C = (Co  + Io + Go + Xo - h*r) + [(b-m)*(1-t)-g]*Y\n",
    "    return DA_C\n",
    "\n",
    "DA_C_X = DA_C(Co, Io, Go, Xo, h, r, b, m, t, g, Y)"
   ]
  },
  {
   "cell_type": "code",
   "execution_count": 31,
   "id": "6937bc2c",
   "metadata": {},
   "outputs": [
    {
     "data": {
      "text/plain": [
       "(174.7478070175439, 69.89912280701755)"
      ]
     },
     "execution_count": 31,
     "metadata": {},
     "output_type": "execute_result"
    }
   ],
   "source": [
    "# líneas punteadas autómaticas\n",
    "\n",
    "    # definir la función line_intersection\n",
    "def line_intersection(line1, line2):\n",
    "    xdiff = (line1[0][0] - line1[1][0], line2[0][0] - line2[1][0])\n",
    "    ydiff = (line1[0][1] - line1[1][1], line2[0][1] - line2[1][1])\n",
    "\n",
    "    def det(a, b):\n",
    "        return a[0] * b[1] - a[1] * b[0]\n",
    "\n",
    "    div = det(xdiff, ydiff)\n",
    "    if div == 0:\n",
    "       raise Exception('lines do not intersect')\n",
    "\n",
    "    d = (det(*line1), det(*line2))\n",
    "    x = det(d, xdiff) / div\n",
    "    y = det(d, ydiff) / div\n",
    "    return x, y\n",
    "\n",
    "    # coordenadas de las curvas (x,y)\n",
    "A = [DA_Cont[0], Y[0]] # DA, coordenada inicio\n",
    "B = [DA_Cont[-1], Y[-1]] # DA, coordenada fin\n",
    "\n",
    "C = [L_45[0], Y[0]] # L_45, coordenada inicio\n",
    "D = [L_45[-1], Y[-1]] # L_45, coordenada fin\n",
    "\n",
    "    # creación de intersección\n",
    "\n",
    "intersec = line_intersection((A, B), (C, D))\n",
    "intersec # (y,x)"
   ]
  },
  {
   "cell_type": "code",
   "execution_count": 32,
   "id": "1453cfc9",
   "metadata": {},
   "outputs": [
    {
     "data": {
      "text/plain": [
       "(159.39692982456143, 63.75877192982457)"
      ]
     },
     "execution_count": 32,
     "metadata": {},
     "output_type": "execute_result"
    }
   ],
   "source": [
    "    # coordenadas de las curvas (x,y)\n",
    "A = [DA_C_X[0], Y[0]] # DA, coordenada inicio\n",
    "B = [DA_C_X[-1], Y[-1]] # DA, coordenada fin\n",
    "\n",
    "C = [L_45[0], Y[0]] # L_45, coordenada inicio\n",
    "D = [L_45[-1], Y[-1]] # L_45, coordenada fin\n",
    "\n",
    "    # creación de intersección\n",
    "\n",
    "intersec_X = line_intersection((A, B), (C, D))\n",
    "intersec_X # (y,x)"
   ]
  },
  {
   "cell_type": "code",
   "execution_count": 33,
   "id": "b968c931",
   "metadata": {},
   "outputs": [
    {
     "data": {
      "image/png": "[encoded data removed]",
      "text/plain": [
       "<Figure size 720x576 with 1 Axes>"
      ]
     },
     "metadata": {
      "needs_background": "light"
     },
     "output_type": "display_data"
    }
   ],
   "source": [
    "# Gráfico\n",
    "y_max = np.max(DA_Cont)\n",
    "fig, ax = plt.subplots(figsize=(10, 8))\n",
    "\n",
    "\n",
    "# Curvas a graficar\n",
    "ax.plot(DA_Cont, label = \"DA\", color = \"#3D59AB\") #curva ORIGINAL\n",
    "ax.plot(DA_C_X, label = \"DA_X\", color = \"#EE7600\", linestyle = 'dashed') #NUEVA curva\n",
    "ax.plot(L_45, color = \"#404040\") #línea de 45º\n",
    "\n",
    "# Lineas punteadas\n",
    "plt.axhline(y=intersec[0], xmin= 0, xmax= 0.68, linestyle = \":\", color = \"grey\")\n",
    "plt.axvline(x=intersec[1], ymin= 0, ymax= 0.68, linestyle = \":\", color = \"grey\")\n",
    "\n",
    "plt.axhline(y=intersec_X[0], xmin= 0, xmax= 0.63, linestyle = \":\", color = \"grey\")\n",
    "plt.axvline(x=intersec_X[1], ymin= 0, ymax= 0.63, linestyle = \":\", color = \"grey\")\n",
    "\n",
    "\n",
    "# Texto agregado\n",
    "plt.text(0, 180, '$DA^e$', fontsize = 11.5, color = 'black')\n",
    "plt.text(0, 135, '$DA_X$', fontsize = 11.5, color = '#EE7600')\n",
    "plt.text(6, 4, '$45°$', fontsize = 11.5, color = 'black')\n",
    "plt.text(2.5, -3, '$◝$', fontsize = 30, color = '#404040')\n",
    "plt.text(71, 0, '$Y^e$', fontsize = 12, color = 'black')\n",
    "plt.text(60, 0, '$Y_X$', fontsize = 12, color = '#EE7600')\n",
    "plt.text(65.5, 45, '$←$', fontsize = 15, color = 'grey')\n",
    "plt.text(20, 165, '$↓$', fontsize = 15, color = 'grey')\n",
    "\n",
    "# Título y leyenda\n",
    "ax.set(title = \"Reducción de las Exportaciones\", xlabel = r'Y', ylabel = r'DA')\n",
    "ax.legend()\n",
    "\n",
    "plt.show()"
   ]
  },
  {
   "cell_type": "markdown",
   "id": "d36423e0",
   "metadata": {},
   "source": [
    "PARTE TEÓRICA:\n",
    "El ensayo puede resumirse en las siguientes preguntas: ¿Cómo deberá actuar el Estado, el BCR y el MEF frente a una próxima recesión económica (tiempo de las vacas flacas)? o ¿Cómo debe actuar el Estado, el BCR y el MEF durante el periodo de las vacas flacas para no desestabilizar -en gran medida- a la economía peruana?. Estas preguntas son el centro de la investigación del trabajo y pueden resumir el artículo en una respuesta. \n",
    "Una de las fortalezas que se encuentran en el documento es que el autor ha podido reconocer y analizar las causas y consecuencias de un periodo de las vacas flacas: como causas se tienen a factores externos (el desplome de los precios mundiales de los metales y la restricción crediticia en dólares) y como consecuencias se tiene la inflación -con todo lo que envuelve a esta- y el alza del tipo de cambio. Además, el autor cuestiona las decisiones económicas del Estado peruano y critica cómo estas no tuvieron el efecto esperado para contrarrestar la recesión económica: la inestabilidad del BCR si es dolarizado; agotamiento de reservas para revertir un choque externo; el BCR no fluyó junto a la corriente del mercado cambiario; ante la desaceleración de la economía urbana, el BCR buscó moderar la subida del tipo de cambio; el BCR hizo una rebaja progresiva de la tasa de encaje a los depósitos en moneda nacional; el MEF priorizó una “reforma estructural” antes que estabilizar la macroeconomía; el MEF durante el periodo de las vacas flcas del 2014 redujo la inversión privada en gobiernos locales y regionales; y por último, durante el mismo periodo, el MEF lanzó un paquete de rebajas impositivas para empresas. En lo mencionado se demuestra como Dancourt reconoce los problemas en las decisiones estatales frente al periodo de las vacas flacas. En este sentido, la mayor fortaleza de este trabajo son los aportes que el autor ha dado con respecto a las soluciones que se pueden aplicar frente a este periodo\n",
    "Una de las debilidades que se encuentra en el artículo es que ha usado un periodo específico de años para plantear sus posibles medidas (período de recesión del 2013 al 2015), esto puede limitar el efecto de sus soluciones frente a las diversas variables que puedan afectar a un próximo período de las vacas flacas.\n",
    "Como se mencionó, el documento de Dancourt expone las mejores opciones que pudo haber tenido el Estado peruano para contrarrestar los efectos de la recesión del 2013. Estas soluciones planteadas pudieron hacer que para el ingreso del expresidente PPK, la economía peruana y los sectores que esta afecta puedan encontrarse en mejores condiciones que las entregadas.\n",
    "Un segundo artículo de Dancourt “Choques externos y actividad económica en el Perú” puede ayudar a entender y complementar mejor este primer artículo pues presenta cómo y cuánto afectan las recesiones económicas el país. Otro artículo relacionado puede ser el de Quispe “Efecto de la recesión económica en el capital de trabajo de las empresas del sector industrial” pues si bien se limita al sector privado, se pueden evidenciar los efectos de la recesión económica y sus efectos en el sector privado del Perú.\n",
    "Dancourt, Ó. (2013). Choques externos y actividad económica en el Perú. Revista Quehacer, (191), 16-24. \n",
    "Quispe Riveros, L. L. (2020). Efecto de la recesión económica en el capital de trabajo de las empresas del sector industrial, Perú, 2020."
   ]
  },
  {
   "cell_type": "code",
   "execution_count": null,
   "id": "1540ab85",
   "metadata": {},
   "outputs": [],
   "source": []
  }
 ],
 "metadata": {
  "kernelspec": {
   "display_name": "Python 3 (ipykernel)",
   "language": "python",
   "name": "python3"
  },
  "language_info": {
   "codemirror_mode": {
    "name": "ipython",
    "version": 3
   },
   "file_extension": ".py",
   "mimetype": "text/x-python",
   "name": "python",
   "nbconvert_exporter": "python",
   "pygments_lexer": "ipython3",
   "version": "3.9.12"
  }
 },
 "nbformat": 4,
 "nbformat_minor": 5
}
